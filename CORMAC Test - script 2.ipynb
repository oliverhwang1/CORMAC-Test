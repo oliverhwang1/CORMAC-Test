{
 "cells": [
  {
   "cell_type": "code",
   "execution_count": 58,
   "metadata": {},
   "outputs": [],
   "source": [
    "import pandas as pd\n",
    "import numpy as np\n",
    "from sklearn.linear_model import LogisticRegression\n",
    "import statsmodels.api as sm\n",
    "from sklearn.model_selection import train_test_split, cross_val_score\n",
    "from sklearn.ensemble import RandomForestClassifier"
   ]
  },
  {
   "cell_type": "markdown",
   "metadata": {},
   "source": [
    "Given trained model = rfc and the trained features X_features = X.columns done in the script 1, and we also have a dictionary of procedure attributes, eg:\n",
    "\n",
    "\n",
    "- the dictionary is \n",
    "\n",
    "d = {'procedure_id': value1, 'type of procedure': value2, 'how long it lasted': value3, 'severity of the condition being addressed': value4,\n",
    "    'severity of post procedure complications': None, 'pain': None, 'recurrence of original condition': None}\n",
    "    \n",
    "\n",
    "then a prediction of success (True or False) would be:"
   ]
  },
  {
   "cell_type": "code",
   "execution_count": null,
   "metadata": {},
   "outputs": [],
   "source": [
    "def prediction(rfc, X_features, d):\n",
    "\n",
    "    #Match variables in the dictionary's keys to the dimension/features in the trained model- rfc:\n",
    "    \n",
    "    list_features = [[] for i in range(len(X_features))]\n",
    "    for index,feature in enumerate(X_features):\n",
    "        if feature in list(d.keys()): #the feature's data type is float\n",
    "            list_features[index].append(d[feature])\n",
    "        else: # the feature(data tyoe string) is the dummy variable transformed before.\n",
    "            for i in range(len(feature) - 1, -1, -1):\n",
    "                if feature[i:] in list(d.values()):\n",
    "                    list_features[index].append(1)\n",
    "    df_temp = pd.DataFrame(list_features).T\n",
    "    df_temp.columns = X_features\n",
    "            \n",
    "    prediction = rfc.predict(df_temp)\n",
    "    if prediction == [1]:\n",
    "        return 'True'\n",
    "    else: # prediction == [0]:\n",
    "        return 'False' "
   ]
  }
 ],
 "metadata": {
  "kernelspec": {
   "display_name": "Python 3",
   "language": "python",
   "name": "python3"
  },
  "language_info": {
   "codemirror_mode": {
    "name": "ipython",
    "version": 3
   },
   "file_extension": ".py",
   "mimetype": "text/x-python",
   "name": "python",
   "nbconvert_exporter": "python",
   "pygments_lexer": "ipython3",
   "version": "3.8.5"
  }
 },
 "nbformat": 4,
 "nbformat_minor": 4
}
